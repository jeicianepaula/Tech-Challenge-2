{
  "cells": [
    {
      "cell_type": "markdown",
      "metadata": {
        "id": "TgdiPT6k2UH1"
      },
      "source": [
        "### Importando Bibliotecas a serem utilizadas"
      ]
    },
    {
      "cell_type": "code",
      "execution_count": null,
      "metadata": {
        "id": "s_o3rlH72P-k"
      },
      "outputs": [
        {
          "ename": "ValueError",
          "evalue": "numpy.dtype size changed, may indicate binary incompatibility. Expected 96 from C header, got 88 from PyObject",
          "output_type": "error",
          "traceback": [
            "\u001b[1;31m---------------------------------------------------------------------------\u001b[0m",
            "\u001b[1;31mValueError\u001b[0m                                Traceback (most recent call last)",
            "Cell \u001b[1;32mIn[1], line 1\u001b[0m\n\u001b[1;32m----> 1\u001b[0m \u001b[38;5;28;01mimport\u001b[39;00m \u001b[38;5;21;01mpandas\u001b[39;00m \u001b[38;5;28;01mas\u001b[39;00m \u001b[38;5;21;01mpd\u001b[39;00m\n\u001b[0;32m      2\u001b[0m \u001b[38;5;66;03m#import numpy as np\u001b[39;00m\n\u001b[0;32m      3\u001b[0m \u001b[38;5;66;03m# import matplotlib.pyplot as plt\u001b[39;00m\n\u001b[0;32m      4\u001b[0m \u001b[38;5;66;03m# import seaborn as sns\u001b[39;00m\n\u001b[1;32m   (...)\u001b[0m\n\u001b[0;32m     10\u001b[0m \u001b[38;5;66;03m# from bcb import sgs, currency # Dados do banco central\u001b[39;00m\n\u001b[0;32m     11\u001b[0m \u001b[38;5;66;03m# import ipeadatapy as idpy\u001b[39;00m\n",
            "File \u001b[1;32mc:\\Users\\jeici\\AppData\\Local\\Programs\\Python\\Python39\\lib\\site-packages\\pandas\\__init__.py:22\u001b[0m\n\u001b[0;32m     19\u001b[0m \u001b[38;5;28;01mdel\u001b[39;00m hard_dependencies, dependency, missing_dependencies\n\u001b[0;32m     21\u001b[0m \u001b[38;5;66;03m# numpy compat\u001b[39;00m\n\u001b[1;32m---> 22\u001b[0m \u001b[38;5;28;01mfrom\u001b[39;00m \u001b[38;5;21;01mpandas\u001b[39;00m\u001b[38;5;21;01m.\u001b[39;00m\u001b[38;5;21;01mcompat\u001b[39;00m \u001b[38;5;28;01mimport\u001b[39;00m is_numpy_dev \u001b[38;5;28;01mas\u001b[39;00m _is_numpy_dev\n\u001b[0;32m     24\u001b[0m \u001b[38;5;28;01mtry\u001b[39;00m:\n\u001b[0;32m     25\u001b[0m     \u001b[38;5;28;01mfrom\u001b[39;00m \u001b[38;5;21;01mpandas\u001b[39;00m\u001b[38;5;21;01m.\u001b[39;00m\u001b[38;5;21;01m_libs\u001b[39;00m \u001b[38;5;28;01mimport\u001b[39;00m hashtable \u001b[38;5;28;01mas\u001b[39;00m _hashtable, lib \u001b[38;5;28;01mas\u001b[39;00m _lib, tslib \u001b[38;5;28;01mas\u001b[39;00m _tslib\n",
            "File \u001b[1;32mc:\\Users\\jeici\\AppData\\Local\\Programs\\Python\\Python39\\lib\\site-packages\\pandas\\compat\\__init__.py:15\u001b[0m\n\u001b[0;32m     12\u001b[0m \u001b[38;5;28;01mimport\u001b[39;00m \u001b[38;5;21;01msys\u001b[39;00m\n\u001b[0;32m     14\u001b[0m \u001b[38;5;28;01mfrom\u001b[39;00m \u001b[38;5;21;01mpandas\u001b[39;00m\u001b[38;5;21;01m.\u001b[39;00m\u001b[38;5;21;01m_typing\u001b[39;00m \u001b[38;5;28;01mimport\u001b[39;00m F\n\u001b[1;32m---> 15\u001b[0m \u001b[38;5;28;01mfrom\u001b[39;00m \u001b[38;5;21;01mpandas\u001b[39;00m\u001b[38;5;21;01m.\u001b[39;00m\u001b[38;5;21;01mcompat\u001b[39;00m\u001b[38;5;21;01m.\u001b[39;00m\u001b[38;5;21;01mnumpy\u001b[39;00m \u001b[38;5;28;01mimport\u001b[39;00m (\n\u001b[0;32m     16\u001b[0m     is_numpy_dev,\n\u001b[0;32m     17\u001b[0m     np_version_under1p19,\n\u001b[0;32m     18\u001b[0m     np_version_under1p20,\n\u001b[0;32m     19\u001b[0m )\n\u001b[0;32m     20\u001b[0m \u001b[38;5;28;01mfrom\u001b[39;00m \u001b[38;5;21;01mpandas\u001b[39;00m\u001b[38;5;21;01m.\u001b[39;00m\u001b[38;5;21;01mcompat\u001b[39;00m\u001b[38;5;21;01m.\u001b[39;00m\u001b[38;5;21;01mpyarrow\u001b[39;00m \u001b[38;5;28;01mimport\u001b[39;00m (\n\u001b[0;32m     21\u001b[0m     pa_version_under1p01,\n\u001b[0;32m     22\u001b[0m     pa_version_under2p0,\n\u001b[0;32m     23\u001b[0m     pa_version_under3p0,\n\u001b[0;32m     24\u001b[0m     pa_version_under4p0,\n\u001b[0;32m     25\u001b[0m )\n\u001b[0;32m     27\u001b[0m PY39 \u001b[38;5;241m=\u001b[39m sys\u001b[38;5;241m.\u001b[39mversion_info \u001b[38;5;241m>\u001b[39m\u001b[38;5;241m=\u001b[39m (\u001b[38;5;241m3\u001b[39m, \u001b[38;5;241m9\u001b[39m)\n",
            "File \u001b[1;32mc:\\Users\\jeici\\AppData\\Local\\Programs\\Python\\Python39\\lib\\site-packages\\pandas\\compat\\numpy\\__init__.py:4\u001b[0m\n\u001b[0;32m      1\u001b[0m \u001b[38;5;124;03m\"\"\" support numpy compatibility across versions \"\"\"\u001b[39;00m\n\u001b[0;32m      2\u001b[0m \u001b[38;5;28;01mimport\u001b[39;00m \u001b[38;5;21;01mnumpy\u001b[39;00m \u001b[38;5;28;01mas\u001b[39;00m \u001b[38;5;21;01mnp\u001b[39;00m\n\u001b[1;32m----> 4\u001b[0m \u001b[38;5;28;01mfrom\u001b[39;00m \u001b[38;5;21;01mpandas\u001b[39;00m\u001b[38;5;21;01m.\u001b[39;00m\u001b[38;5;21;01mutil\u001b[39;00m\u001b[38;5;21;01m.\u001b[39;00m\u001b[38;5;21;01mversion\u001b[39;00m \u001b[38;5;28;01mimport\u001b[39;00m Version\n\u001b[0;32m      6\u001b[0m \u001b[38;5;66;03m# numpy versioning\u001b[39;00m\n\u001b[0;32m      7\u001b[0m _np_version \u001b[38;5;241m=\u001b[39m np\u001b[38;5;241m.\u001b[39m__version__\n",
            "File \u001b[1;32mc:\\Users\\jeici\\AppData\\Local\\Programs\\Python\\Python39\\lib\\site-packages\\pandas\\util\\__init__.py:1\u001b[0m\n\u001b[1;32m----> 1\u001b[0m \u001b[38;5;28;01mfrom\u001b[39;00m \u001b[38;5;21;01mpandas\u001b[39;00m\u001b[38;5;21;01m.\u001b[39;00m\u001b[38;5;21;01mutil\u001b[39;00m\u001b[38;5;21;01m.\u001b[39;00m\u001b[38;5;21;01m_decorators\u001b[39;00m \u001b[38;5;28;01mimport\u001b[39;00m (  \u001b[38;5;66;03m# noqa:F401\u001b[39;00m\n\u001b[0;32m      2\u001b[0m     Appender,\n\u001b[0;32m      3\u001b[0m     Substitution,\n\u001b[0;32m      4\u001b[0m     cache_readonly,\n\u001b[0;32m      5\u001b[0m )\n\u001b[0;32m      7\u001b[0m \u001b[38;5;28;01mfrom\u001b[39;00m \u001b[38;5;21;01mpandas\u001b[39;00m\u001b[38;5;21;01m.\u001b[39;00m\u001b[38;5;21;01mcore\u001b[39;00m\u001b[38;5;21;01m.\u001b[39;00m\u001b[38;5;21;01mutil\u001b[39;00m\u001b[38;5;21;01m.\u001b[39;00m\u001b[38;5;21;01mhashing\u001b[39;00m \u001b[38;5;28;01mimport\u001b[39;00m (  \u001b[38;5;66;03m# noqa:F401\u001b[39;00m\n\u001b[0;32m      8\u001b[0m     hash_array,\n\u001b[0;32m      9\u001b[0m     hash_pandas_object,\n\u001b[0;32m     10\u001b[0m )\n\u001b[0;32m     13\u001b[0m \u001b[38;5;28;01mdef\u001b[39;00m \u001b[38;5;21m__getattr__\u001b[39m(name):\n",
            "File \u001b[1;32mc:\\Users\\jeici\\AppData\\Local\\Programs\\Python\\Python39\\lib\\site-packages\\pandas\\util\\_decorators.py:14\u001b[0m\n\u001b[0;32m      6\u001b[0m \u001b[38;5;28;01mfrom\u001b[39;00m \u001b[38;5;21;01mtyping\u001b[39;00m \u001b[38;5;28;01mimport\u001b[39;00m (\n\u001b[0;32m      7\u001b[0m     Any,\n\u001b[0;32m      8\u001b[0m     Callable,\n\u001b[0;32m      9\u001b[0m     Mapping,\n\u001b[0;32m     10\u001b[0m     cast,\n\u001b[0;32m     11\u001b[0m )\n\u001b[0;32m     12\u001b[0m \u001b[38;5;28;01mimport\u001b[39;00m \u001b[38;5;21;01mwarnings\u001b[39;00m\n\u001b[1;32m---> 14\u001b[0m \u001b[38;5;28;01mfrom\u001b[39;00m \u001b[38;5;21;01mpandas\u001b[39;00m\u001b[38;5;21;01m.\u001b[39;00m\u001b[38;5;21;01m_libs\u001b[39;00m\u001b[38;5;21;01m.\u001b[39;00m\u001b[38;5;21;01mproperties\u001b[39;00m \u001b[38;5;28;01mimport\u001b[39;00m cache_readonly  \u001b[38;5;66;03m# noqa:F401\u001b[39;00m\n\u001b[0;32m     15\u001b[0m \u001b[38;5;28;01mfrom\u001b[39;00m \u001b[38;5;21;01mpandas\u001b[39;00m\u001b[38;5;21;01m.\u001b[39;00m\u001b[38;5;21;01m_typing\u001b[39;00m \u001b[38;5;28;01mimport\u001b[39;00m F\n\u001b[0;32m     18\u001b[0m \u001b[38;5;28;01mdef\u001b[39;00m \u001b[38;5;21mdeprecate\u001b[39m(\n\u001b[0;32m     19\u001b[0m     name: \u001b[38;5;28mstr\u001b[39m,\n\u001b[0;32m     20\u001b[0m     alternative: Callable[\u001b[38;5;241m.\u001b[39m\u001b[38;5;241m.\u001b[39m\u001b[38;5;241m.\u001b[39m, Any],\n\u001b[1;32m   (...)\u001b[0m\n\u001b[0;32m     25\u001b[0m     msg: \u001b[38;5;28mstr\u001b[39m \u001b[38;5;241m|\u001b[39m \u001b[38;5;28;01mNone\u001b[39;00m \u001b[38;5;241m=\u001b[39m \u001b[38;5;28;01mNone\u001b[39;00m,\n\u001b[0;32m     26\u001b[0m ) \u001b[38;5;241m-\u001b[39m\u001b[38;5;241m>\u001b[39m Callable[[F], F]:\n",
            "File \u001b[1;32mc:\\Users\\jeici\\AppData\\Local\\Programs\\Python\\Python39\\lib\\site-packages\\pandas\\_libs\\__init__.py:13\u001b[0m\n\u001b[0;32m      1\u001b[0m __all__ \u001b[38;5;241m=\u001b[39m [\n\u001b[0;32m      2\u001b[0m     \u001b[38;5;124m\"\u001b[39m\u001b[38;5;124mNaT\u001b[39m\u001b[38;5;124m\"\u001b[39m,\n\u001b[0;32m      3\u001b[0m     \u001b[38;5;124m\"\u001b[39m\u001b[38;5;124mNaTType\u001b[39m\u001b[38;5;124m\"\u001b[39m,\n\u001b[1;32m   (...)\u001b[0m\n\u001b[0;32m      9\u001b[0m     \u001b[38;5;124m\"\u001b[39m\u001b[38;5;124mInterval\u001b[39m\u001b[38;5;124m\"\u001b[39m,\n\u001b[0;32m     10\u001b[0m ]\n\u001b[1;32m---> 13\u001b[0m \u001b[38;5;28;01mfrom\u001b[39;00m \u001b[38;5;21;01mpandas\u001b[39;00m\u001b[38;5;21;01m.\u001b[39;00m\u001b[38;5;21;01m_libs\u001b[39;00m\u001b[38;5;21;01m.\u001b[39;00m\u001b[38;5;21;01minterval\u001b[39;00m \u001b[38;5;28;01mimport\u001b[39;00m Interval\n\u001b[0;32m     14\u001b[0m \u001b[38;5;28;01mfrom\u001b[39;00m \u001b[38;5;21;01mpandas\u001b[39;00m\u001b[38;5;21;01m.\u001b[39;00m\u001b[38;5;21;01m_libs\u001b[39;00m\u001b[38;5;21;01m.\u001b[39;00m\u001b[38;5;21;01mtslibs\u001b[39;00m \u001b[38;5;28;01mimport\u001b[39;00m (\n\u001b[0;32m     15\u001b[0m     NaT,\n\u001b[0;32m     16\u001b[0m     NaTType,\n\u001b[1;32m   (...)\u001b[0m\n\u001b[0;32m     21\u001b[0m     iNaT,\n\u001b[0;32m     22\u001b[0m )\n",
            "File \u001b[1;32mc:\\Users\\jeici\\AppData\\Local\\Programs\\Python\\Python39\\lib\\site-packages\\pandas\\_libs\\interval.pyx:1\u001b[0m, in \u001b[0;36minit pandas._libs.interval\u001b[1;34m()\u001b[0m\n",
            "\u001b[1;31mValueError\u001b[0m: numpy.dtype size changed, may indicate binary incompatibility. Expected 96 from C header, got 88 from PyObject"
          ]
        }
      ],
      "source": [
        "import pandas as pd\n",
        "#import numpy as np\n",
        "# import matplotlib.pyplot as plt\n",
        "# import seaborn as sns\n",
        "# from statsmodels.tsa.seasonal import seasonal_decompose #decomposição\n",
        "# from statsmodels.tsa.stattools import adfuller #teste Estatistico de Fuller (PValue)\n",
        "# from statsmodels.tsa.stattools import acf, pacf #Auto Correlação (ACF) Auto correlação Parcial (PACF)\n",
        "# from statsmodels.graphics.tsaplots import plot_acf, plot_pacf\n",
        "# import yfinance as yf #Dados Da Bolsa importado diretamente do Python\n",
        "# from bcb import sgs, currency # Dados do banco central\n",
        "# import ipeadatapy as idpy"
      ]
    },
    {
      "cell_type": "code",
      "execution_count": 2,
      "metadata": {},
      "outputs": [
        {
          "name": "stdout",
          "output_type": "stream",
          "text": [
            "Collecting panda\n",
            "  Downloading panda-0.3.1.tar.gz (5.8 kB)\n",
            "  Preparing metadata (setup.py): started\n",
            "  Preparing metadata (setup.py): finished with status 'done'\n",
            "Requirement already satisfied: setuptools in c:\\users\\jeici\\appdata\\local\\programs\\python\\python39\\lib\\site-packages (from panda) (70.3.0)\n",
            "Requirement already satisfied: requests in c:\\users\\jeici\\appdata\\local\\programs\\python\\python39\\lib\\site-packages (from panda) (2.32.3)\n",
            "Requirement already satisfied: charset-normalizer<4,>=2 in c:\\users\\jeici\\appdata\\local\\programs\\python\\python39\\lib\\site-packages (from requests->panda) (3.3.2)\n",
            "Requirement already satisfied: idna<4,>=2.5 in c:\\users\\jeici\\appdata\\local\\programs\\python\\python39\\lib\\site-packages (from requests->panda) (3.7)\n",
            "Requirement already satisfied: urllib3<3,>=1.21.1 in c:\\users\\jeici\\appdata\\local\\programs\\python\\python39\\lib\\site-packages (from requests->panda) (2.2.2)\n",
            "Requirement already satisfied: certifi>=2017.4.17 in c:\\users\\jeici\\appdata\\local\\programs\\python\\python39\\lib\\site-packages (from requests->panda) (2024.7.4)\n",
            "Building wheels for collected packages: panda\n",
            "  Building wheel for panda (setup.py): started\n",
            "  Building wheel for panda (setup.py): finished with status 'done'\n",
            "  Created wheel for panda: filename=panda-0.3.1-py3-none-any.whl size=7244 sha256=c90bbc5c192582a0a8e27c566dc90f6471561ff82b025c33be5e6f1ceb2d7223\n",
            "  Stored in directory: c:\\users\\jeici\\appdata\\local\\pip\\cache\\wheels\\6c\\5a\\a9\\a28c87238ddcc61701224f538bedccc21c9e2b8bc6fa8fca0e\n",
            "Successfully built panda\n",
            "Installing collected packages: panda\n",
            "Successfully installed panda-0.3.1\n",
            "Note: you may need to restart the kernel to use updated packages.\n"
          ]
        }
      ],
      "source": [
        "%pip install panda"
      ]
    },
    {
      "cell_type": "markdown",
      "metadata": {
        "id": "gR6eL2Q7yoD2"
      },
      "source": [
        "## Importando a Base de Dados da IBOVESPA e índice VIX\n",
        "\n",
        "Utilizando a biblioteca Python 'yfinance' que possui os dados diários através do link(https://finance.yahoo.com/quote/%5EBVSP/history/)\n",
        "\n",
        "O Yahoo Finance utiliza 5 colunas relativas a preço do ativos:\n",
        "\n",
        "Open -> Preço de abertura do dia do ativo (sem ajuste).\n",
        "\n",
        "High -> Maior preço alcançado no dia pelo ativo (sem ajuste).\n",
        "\n",
        "Low -> Menor preço alcançado no dia pelo ativo (sem ajuste).\n",
        "\n",
        "Close -> Preço de fechamento do dia do ativo (sem ajuste).\n",
        "\n",
        "Adj Close -> Preço de fechamento do dia do ativo (com ajuste) ##  Com o preço de fechamento, você verá apenas a mudança bruta no preço, enquanto o preço de fechamento ajustado também levará em consideração o dividendo. Para ações que não pagam dividendos, não haverá diferença entre esses dois valores.\n",
        "\n",
        "Volume -> Número de negócios que teve no dia."
      ]
    },
    {
      "cell_type": "code",
      "execution_count": null,
      "metadata": {
        "colab": {
          "base_uri": "https://localhost:8080/",
          "height": 255
        },
        "id": "HCfMHpGUyAFo",
        "outputId": "9ded296b-e1d6-4c60-ae62-ffa1b4435f9a"
      },
      "outputs": [],
      "source": [
        "#Dados Da Bolsa importado diretamente do Python\n",
        "start_date = '2021-05-06'\n",
        "end_date = '2024-07-25'\n",
        "\n",
        "df_origem = yf.download('^BVSP', start=start_date, end=end_date)"
      ]
    },
    {
      "cell_type": "code",
      "execution_count": null,
      "metadata": {},
      "outputs": [],
      "source": [
        "df_origem.head()"
      ]
    },
    {
      "cell_type": "code",
      "execution_count": null,
      "metadata": {},
      "outputs": [],
      "source": [
        "# Indice S&P/B3 Ibovespa VIX -> Avaliação de risco\n",
        "df_vix = pd.read_excel('PerformanceGraphExport.xlsx')"
      ]
    },
    {
      "cell_type": "code",
      "execution_count": null,
      "metadata": {},
      "outputs": [],
      "source": [
        "df_vix = df_vix.set_index('Data efetiva')\n",
        "df_vix.head()"
      ]
    },
    {
      "cell_type": "code",
      "execution_count": null,
      "metadata": {},
      "outputs": [],
      "source": [
        "#Taxa Selic\n",
        "\n",
        "selic_df = sgs.get(('selic', 432), start = '2001-01-01')\n",
        "\n",
        "selic_df.head()"
      ]
    },
    {
      "cell_type": "code",
      "execution_count": null,
      "metadata": {},
      "outputs": [],
      "source": [
        "#Criando um df com o indice vix\n",
        "df_novo = df_origem.merge(df_vix, how = 'left',  left_on = df_origem.index, right_on = df_vix.index)\n",
        "df_novo.rename(columns={'key_0':'Date'}, inplace = True)\n",
        "df_novo = df_novo.set_index('Date')\n",
        "df_novo.head()"
      ]
    },
    {
      "cell_type": "markdown",
      "metadata": {},
      "source": [
        "## Análise Exploratória de Dados"
      ]
    },
    {
      "cell_type": "code",
      "execution_count": null,
      "metadata": {},
      "outputs": [],
      "source": [
        "df_novo.info()"
      ]
    },
    {
      "cell_type": "code",
      "execution_count": null,
      "metadata": {},
      "outputs": [],
      "source": [
        "#Quantidade de duplicados\n",
        "print('Volume de duplicados na amostra: ', df_novo.duplicated().sum())"
      ]
    },
    {
      "cell_type": "code",
      "execution_count": null,
      "metadata": {},
      "outputs": [],
      "source": [
        "#Estatistica descritiva\n",
        "df_novo.describe() "
      ]
    },
    {
      "cell_type": "code",
      "execution_count": null,
      "metadata": {},
      "outputs": [],
      "source": [
        "# Fechamento\n",
        "fig, ax1 = plt.subplots(figsize = (15, 10))\n",
        "ax1.plot(df_novo.index, df_novo['Adj Close'], color='blue', label='Close Price')\n",
        "ax1.set_xlabel('Date')\n",
        "ax1.set_ylabel('Close', color='blue')\n",
        "ax1.tick_params(axis='y', labelcolor='blue')\n",
        "\n",
        "# VIX\n",
        "ax2 = ax1.twinx()\n",
        "ax2.plot(df_novo.index, df_novo['S&P/B3 Ibovespa VIX'], color='green', label='HS&P/B3 Ibovespa VIX')\n",
        "ax2.set_ylabel('S&P/B3 Ibovespa VIX', color='green')\n",
        "ax2.tick_params(axis='y', labelcolor='green')\n",
        "\n",
        "plt.title('Fechamento x Indice VIX')\n",
        "plt.show()"
      ]
    },
    {
      "cell_type": "code",
      "execution_count": null,
      "metadata": {},
      "outputs": [],
      "source": [
        "#Cria a matriz de correlação\n",
        "correlation_matrix = df_novo.corr()\n",
        "\n",
        "fig, ax = plt.subplots(figsize=(8,8))\n",
        "sns.heatmap(data=correlation_matrix, annot=True, linewidths=.5, ax=ax)"
      ]
    },
    {
      "cell_type": "code",
      "execution_count": null,
      "metadata": {},
      "outputs": [],
      "source": [
        "x = df_novo[[\"Open\", \"High\", \"Low\", \"S&P/B3 Ibovespa VIX\"]].values #variaveis independentes\n",
        "y = df_novo[\"Close\"].values #target (alvo)"
      ]
    },
    {
      "cell_type": "code",
      "execution_count": null,
      "metadata": {},
      "outputs": [],
      "source": [
        "sns.scatterplot(data=df_novo, x='S&P/B3 Ibovespa VIX', y='Close')"
      ]
    },
    {
      "cell_type": "code",
      "execution_count": null,
      "metadata": {},
      "outputs": [],
      "source": [
        "ax = df_novo.plot.hist(column=[\"\"], by=\"gender\", figsize=(10, 8))"
      ]
    },
    {
      "cell_type": "code",
      "execution_count": null,
      "metadata": {
        "colab": {
          "base_uri": "https://localhost:8080/",
          "height": 472
        },
        "id": "4JK8dv6-3x2Z",
        "outputId": "622e4044-611c-4eeb-9f37-694eb7aa9941"
      },
      "outputs": [],
      "source": [
        "#Plot com os dados de Fechamento da Bolsa\n",
        "# fig, ax = plt.subplots(figsize= (14, 14))\n",
        "plt.plot(df_origem.index, df_origem['Close'])\n",
        "plt.title('IBOVESPA - Fechamento')\n",
        "plt.xlabel('Data')\n",
        "plt.ylabel('Fechamento')\n",
        "# plt.show()"
      ]
    },
    {
      "cell_type": "markdown",
      "metadata": {},
      "source": [
        "### Análise dos dados"
      ]
    },
    {
      "cell_type": "markdown",
      "metadata": {
        "id": "oUfMw6I4BMPX"
      },
      "source": [
        "##Decomposição"
      ]
    },
    {
      "cell_type": "code",
      "execution_count": null,
      "metadata": {
        "id": "LmbZDupL7dMz"
      },
      "outputs": [],
      "source": [
        "##Duvida ##Não entendi pq tenho q definir um periodo\n",
        "\n",
        "resultados = seasonal_decompose(df,period=365)"
      ]
    },
    {
      "cell_type": "code",
      "execution_count": null,
      "metadata": {
        "colab": {
          "base_uri": "https://localhost:8080/",
          "height": 755
        },
        "id": "KYSTGV8l-DVB",
        "outputId": "26d7cfb9-70ed-4a1c-d3b0-8c4102bcdc9a"
      },
      "outputs": [],
      "source": [
        "fig, (ax1, ax2, ax3, ax4) = plt.subplots(4,1, figsize=(15,10))\n",
        "\n",
        "resultados.observed.plot(ax=ax1)\n",
        "#Tendecia\n",
        "resultados.trend.plot(ax=ax2)\n",
        "#Sazonalidade\n",
        "resultados.seasonal.plot(ax=ax3)\n",
        "#Residuo\n",
        "resultados.resid.plot(ax=ax4)\n",
        "\n",
        "plt.tight_layout()"
      ]
    },
    {
      "cell_type": "markdown",
      "metadata": {
        "id": "gjgpTvrhBEWk"
      },
      "source": [
        "##Teste Estatístico - Fuller"
      ]
    },
    {
      "cell_type": "code",
      "execution_count": null,
      "metadata": {
        "id": "qJvBD-d-AGEg"
      },
      "outputs": [],
      "source": [
        "X = df.y.values"
      ]
    },
    {
      "cell_type": "code",
      "execution_count": null,
      "metadata": {
        "colab": {
          "base_uri": "https://localhost:8080/"
        },
        "id": "8JFU_lLoAJ8q",
        "outputId": "9e80b661-bf82-44ab-8064-f264489cd05e"
      },
      "outputs": [],
      "source": [
        "results = adfuller(X)\n",
        "\n",
        "print(\"Teste ADF\")\n",
        "print(f\"Teste Estatistico: {results[0]}\")\n",
        "print(f\"P-Value: {results[1]}\")\n",
        "print(\"Valores criticos:\")\n",
        "\n",
        "for key, value in results[4].items():\n",
        "  print(f\"{key}: {value}\")"
      ]
    },
    {
      "cell_type": "markdown",
      "metadata": {
        "id": "xT7KO3N34FTp"
      },
      "source": [
        "Criando Média Móvel (MA)"
      ]
    },
    {
      "cell_type": "code",
      "execution_count": null,
      "metadata": {
        "colab": {
          "base_uri": "https://localhost:8080/",
          "height": 487
        },
        "id": "SUJPEf944Ldc",
        "outputId": "afe6e2cb-dbfc-44ca-dc32-cb1cbd0a5e81"
      },
      "outputs": [],
      "source": [
        "ma = df.rolling(12).mean()\n",
        "\n",
        "f, ax = plt.subplots()\n",
        "df.plot(ax=ax, legend=False)\n",
        "ma.plot(ax=ax, legend=False, color='r')\n",
        "plt.tight_layout()"
      ]
    },
    {
      "cell_type": "code",
      "execution_count": null,
      "metadata": {
        "colab": {
          "base_uri": "https://localhost:8080/",
          "height": 487
        },
        "id": "QI8Y9R_i4WrI",
        "outputId": "32bfe08e-3015-42ac-a144-01c64ff21272"
      },
      "outputs": [],
      "source": [
        "#Aplica Logaritimo para remover as medias moveis\n",
        "\n",
        "df_log = np.log(df)\n",
        "ma_log = df_log.rolling(12).mean()\n",
        "\n",
        "f, ax = plt.subplots()\n",
        "df_log.plot(ax=ax, legend=False)\n",
        "ma_log.plot(ax=ax, legend=False, color='r')\n",
        "plt.tight_layout()"
      ]
    },
    {
      "cell_type": "code",
      "execution_count": null,
      "metadata": {
        "colab": {
          "base_uri": "https://localhost:8080/",
          "height": 487
        },
        "id": "b0A3b4Im4cRR",
        "outputId": "8034f437-625f-485b-e794-cb731a895b03"
      },
      "outputs": [],
      "source": [
        "df_s = (df_log - ma_log).dropna() #dropa os nulos\n",
        "\n",
        "ma_s = df_s.rolling(12).mean()\n",
        "\n",
        "std = df_s.rolling(12).std()\n",
        "\n",
        "f, ax = plt.subplots()\n",
        "df_s.plot(ax=ax, legend=False)\n",
        "ma_s.plot(ax=ax, legend=False, color='r')\n",
        "std.plot(ax=ax, legend=False, color='g')\n",
        "plt.tight_layout()\n"
      ]
    },
    {
      "cell_type": "code",
      "execution_count": null,
      "metadata": {
        "colab": {
          "base_uri": "https://localhost:8080/"
        },
        "id": "ckXkSLyx4gi8",
        "outputId": "7968eb4b-aa8b-4e28-e06d-5e52bac650f3"
      },
      "outputs": [],
      "source": [
        "X_s = df_s.y.values\n",
        "\n",
        "\n",
        "results_S = adfuller(X_s)\n",
        "\n",
        "print(\"Teste ADF\")\n",
        "print(f\"Teste Estatistico: {results_S[0]}\")\n",
        "print(f\"P-Value: {results_S[1]}\")\n",
        "print(\"Valores criticos:\")\n",
        "\n",
        "for key, value in results_S[4].items():\n",
        "  print(f\"{key}: {value}\")"
      ]
    },
    {
      "cell_type": "code",
      "execution_count": null,
      "metadata": {
        "colab": {
          "base_uri": "https://localhost:8080/",
          "height": 487
        },
        "id": "02t_soqk4q7L",
        "outputId": "bfb4d5e8-0afb-4a7b-c3b8-4516c2cd3106"
      },
      "outputs": [],
      "source": [
        "#Aplicar a diferenciação para suavizar ainda mais a serie estacionaria\n",
        "\n",
        "\n",
        "df_diff = df_s.diff(1)  #1 -- primeira derivada\n",
        "ma_diff = df_diff.rolling(12).mean()\n",
        "\n",
        "std_diff = df_diff.rolling(12).std()\n",
        "\n",
        "f, ax = plt.subplots()\n",
        "df_diff.plot(ax=ax, legend=False)\n",
        "ma_diff.plot(ax=ax, legend=False, color='r')\n",
        "std_diff.plot(ax=ax, legend=False, color='g')\n",
        "plt.tight_layout()\n"
      ]
    },
    {
      "cell_type": "code",
      "execution_count": null,
      "metadata": {
        "colab": {
          "base_uri": "https://localhost:8080/"
        },
        "id": "dNN6HAde4vAg",
        "outputId": "2696978a-ee9a-46b8-c078-3c1d503996df"
      },
      "outputs": [],
      "source": [
        "X_diff = df_diff.y.dropna().values\n",
        "results_diff = adfuller(X_diff)\n",
        "\n",
        "print(\"Teste ADF\")\n",
        "print(f\"Teste Estatistico: {results_diff[0]}\")\n",
        "print(f\"P-Value: {results_diff[1]}\")\n",
        "print(\"Valores criticos:\")\n",
        "\n",
        "for key, value in results_diff[4].items():\n",
        "  print(f\"{key}: {value}\")"
      ]
    },
    {
      "cell_type": "code",
      "execution_count": null,
      "metadata": {
        "colab": {
          "base_uri": "https://localhost:8080/",
          "height": 887
        },
        "id": "bqr3VmYg5C_7",
        "outputId": "6b9f07d0-bba2-4382-81bb-56767d3263b4"
      },
      "outputs": [],
      "source": [
        "plot_acf(df.y)\n",
        "plot_pacf(df.y)\n",
        "plt.show()"
      ]
    }
  ],
  "metadata": {
    "colab": {
      "provenance": [],
      "toc_visible": true
    },
    "kernelspec": {
      "display_name": "Python 3",
      "name": "python3"
    },
    "language_info": {
      "codemirror_mode": {
        "name": "ipython",
        "version": 3
      },
      "file_extension": ".py",
      "mimetype": "text/x-python",
      "name": "python",
      "nbconvert_exporter": "python",
      "pygments_lexer": "ipython3",
      "version": "3.9.0"
    }
  },
  "nbformat": 4,
  "nbformat_minor": 0
}
